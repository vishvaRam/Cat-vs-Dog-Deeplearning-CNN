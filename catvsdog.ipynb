{
 "cells": [
  {
   "cell_type": "markdown",
   "id": "196a3d9f-411f-4195-b89b-ca4f81aea42a",
   "metadata": {},
   "source": [
    "# Cat Vs Dog"
   ]
  },
  {
   "cell_type": "markdown",
   "id": "2f31c424-94dc-435b-a81a-ea4bb2cddde4",
   "metadata": {},
   "source": [
    "## Imports "
   ]
  },
  {
   "cell_type": "code",
   "execution_count": 1,
   "id": "edb973fc-25df-4338-bfeb-8759e87d555b",
   "metadata": {},
   "outputs": [],
   "source": [
    "import cv2\n",
    "import os\n",
    "import tensorflow as tf\n",
    "from tensorflow import keras\n",
    "import random\n",
    "import matplotlib.pyplot as plt\n",
    "import numpy as np\n",
    "import pickle"
   ]
  },
  {
   "cell_type": "markdown",
   "id": "5d51974e-c4ab-4b1e-80db-c43e9251f87c",
   "metadata": {},
   "source": [
    "## Variables"
   ]
  },
  {
   "cell_type": "code",
   "execution_count": 1,
   "id": "1b850d2a-cdb1-47e7-bcdb-76e1d1a70159",
   "metadata": {},
   "outputs": [],
   "source": [
    "# Download dataset from\n",
    "# https://www.kaggle.com/c/dogs-vs-cats/data"
   ]
  },
  {
   "cell_type": "code",
   "execution_count": 2,
   "id": "15a7aa94-b6bc-48e9-813c-5d53447d3b34",
   "metadata": {},
   "outputs": [],
   "source": [
    "IMG_SIZE = 128\n",
    "DIR = r\"D:\\Data Science\\DataSets\\Cat vs Dog\\train\"\n",
    "CATEGORIES = ['Cat','Dog']"
   ]
  },
  {
   "cell_type": "markdown",
   "id": "ff30a233-2f8e-446c-959a-1898a45ebc4d",
   "metadata": {},
   "source": [
    "## Reading Images"
   ]
  },
  {
   "cell_type": "code",
   "execution_count": 3,
   "id": "67b07d6f-e3d7-4a86-9f77-786db5216223",
   "metadata": {
    "tags": []
   },
   "outputs": [],
   "source": [
    "data = []\n",
    "\n",
    "for folder in CATEGORIES:\n",
    "    path = os.path.join('data/train',folder)\n",
    "    for files in os.listdir(path):\n",
    "        label = 0 if folder == 'Cat' else 1\n",
    "        imgpath = os.path.join(path,files)\n",
    "        imgarr = cv2.imread(imgpath)\n",
    "        imgarr = cv2.resize(imgarr,(IMG_SIZE,IMG_SIZE))\n",
    "        data.append([imgarr,label])\n"
   ]
  },
  {
   "cell_type": "code",
   "execution_count": 4,
   "id": "0e943de7-aab1-403c-9e90-645d3a17f457",
   "metadata": {},
   "outputs": [
    {
     "data": {
      "text/plain": [
       "10000"
      ]
     },
     "execution_count": 4,
     "metadata": {},
     "output_type": "execute_result"
    }
   ],
   "source": [
    "len(data)"
   ]
  },
  {
   "cell_type": "code",
   "execution_count": 5,
   "id": "176bff5c-8601-41ac-9d42-49511a81ce99",
   "metadata": {},
   "outputs": [],
   "source": [
    "random.shuffle(data)"
   ]
  },
  {
   "cell_type": "markdown",
   "id": "62775c43-94ab-4d6d-afea-bec53c8087a9",
   "metadata": {},
   "source": [
    "## Creating X,y"
   ]
  },
  {
   "cell_type": "code",
   "execution_count": 6,
   "id": "8dc86398-0e8f-4eed-834e-1b38af5e793b",
   "metadata": {},
   "outputs": [],
   "source": [
    "X,y = [],[]\n",
    "\n",
    "for feature, label in data:\n",
    "    X.append(feature)\n",
    "    y.append(label)"
   ]
  },
  {
   "cell_type": "code",
   "execution_count": 7,
   "id": "95ed1393-5e56-450c-ba69-2ed3d2f0bf94",
   "metadata": {},
   "outputs": [],
   "source": [
    "X = np.array(X,dtype='uint8')\n",
    "y = np.array(y,dtype='uint8')"
   ]
  },
  {
   "cell_type": "code",
   "execution_count": 8,
   "id": "c9d423a0-5db6-476b-924d-ccef9ce364b6",
   "metadata": {},
   "outputs": [
    {
     "data": {
      "text/plain": [
       "(10000, 128, 128, 3)"
      ]
     },
     "execution_count": 8,
     "metadata": {},
     "output_type": "execute_result"
    }
   ],
   "source": [
    "X.shape"
   ]
  },
  {
   "cell_type": "markdown",
   "id": "247eb8d1-2342-4737-8735-6024cdd4ace0",
   "metadata": {},
   "source": [
    "## Scaling the data between 0 to 1"
   ]
  },
  {
   "cell_type": "code",
   "execution_count": 9,
   "id": "07cbebcf-acec-44e2-ac13-67c0d69ba41b",
   "metadata": {},
   "outputs": [],
   "source": [
    "X = X / 255"
   ]
  },
  {
   "cell_type": "markdown",
   "id": "6227d456-757a-47b1-bccf-776c07f01cd0",
   "metadata": {},
   "source": [
    "## Dumping as pickle"
   ]
  },
  {
   "cell_type": "code",
   "execution_count": 10,
   "id": "7c86ef5e-ff54-472f-97ab-5ef4c5204a66",
   "metadata": {},
   "outputs": [],
   "source": [
    "pickle.dump(X,open('X.pkl','wb'))\n",
    "pickle.dump(y,open('y.pkl','wb'))"
   ]
  },
  {
   "cell_type": "markdown",
   "id": "f1042e27-9dc1-420c-bfc9-83018e762e8d",
   "metadata": {},
   "source": [
    "## Loading pickle"
   ]
  },
  {
   "cell_type": "code",
   "execution_count": 5,
   "id": "4cefff75-1fec-4594-bd42-1ff01dd9068e",
   "metadata": {},
   "outputs": [],
   "source": [
    "X = pickle.load(open('X.pkl','rb'))\n",
    "y = pickle.load(open('y.pkl','rb'))"
   ]
  },
  {
   "cell_type": "code",
   "execution_count": 6,
   "id": "1174dc12-a8df-4e36-815f-b3f1151492fb",
   "metadata": {},
   "outputs": [
    {
     "data": {
      "text/plain": [
       "dtype('float64')"
      ]
     },
     "execution_count": 6,
     "metadata": {},
     "output_type": "execute_result"
    }
   ],
   "source": [
    "X.dtype"
   ]
  },
  {
   "cell_type": "code",
   "execution_count": 7,
   "id": "cc4ae765-d7f1-44d5-8f9c-75ee31f2464e",
   "metadata": {},
   "outputs": [
    {
     "data": {
      "text/plain": [
       "(10000,)"
      ]
     },
     "execution_count": 7,
     "metadata": {},
     "output_type": "execute_result"
    }
   ],
   "source": [
    "y.shape"
   ]
  },
  {
   "cell_type": "code",
   "execution_count": 8,
   "id": "5d915151-be33-4bab-9235-e4ae3c2ef6fc",
   "metadata": {},
   "outputs": [
    {
     "data": {
      "text/plain": [
       "array([[[0.43921569, 0.41960784, 0.44313725],\n",
       "        [0.43921569, 0.41568627, 0.45098039],\n",
       "        [0.43137255, 0.4       , 0.45098039],\n",
       "        ...,\n",
       "        [0.40392157, 0.59607843, 0.60392157],\n",
       "        [0.42352941, 0.58431373, 0.58039216],\n",
       "        [0.35294118, 0.45490196, 0.5372549 ]],\n",
       "\n",
       "       [[0.37254902, 0.37254902, 0.41568627],\n",
       "        [0.41568627, 0.41176471, 0.46666667],\n",
       "        [0.39607843, 0.38823529, 0.45882353],\n",
       "        ...,\n",
       "        [0.3254902 , 0.49019608, 0.56470588],\n",
       "        [0.36078431, 0.49411765, 0.56470588],\n",
       "        [0.39215686, 0.51372549, 0.59215686]],\n",
       "\n",
       "       [[0.38823529, 0.40392157, 0.4745098 ],\n",
       "        [0.34509804, 0.36078431, 0.43529412],\n",
       "        [0.37647059, 0.38823529, 0.47058824],\n",
       "        ...,\n",
       "        [0.31764706, 0.48235294, 0.55686275],\n",
       "        [0.37647059, 0.50196078, 0.59215686],\n",
       "        [0.39607843, 0.5254902 , 0.60392157]],\n",
       "\n",
       "       ...,\n",
       "\n",
       "       [[0.14901961, 0.30980392, 0.30196078],\n",
       "        [0.24313725, 0.34509804, 0.33333333],\n",
       "        [0.25098039, 0.35686275, 0.3372549 ],\n",
       "        ...,\n",
       "        [0.19607843, 0.24313725, 0.24313725],\n",
       "        [0.16862745, 0.21176471, 0.22352941],\n",
       "        [0.15294118, 0.18823529, 0.18431373]],\n",
       "\n",
       "       [[0.21568627, 0.38039216, 0.36078431],\n",
       "        [0.21960784, 0.3254902 , 0.30980392],\n",
       "        [0.24705882, 0.34117647, 0.31764706],\n",
       "        ...,\n",
       "        [0.18823529, 0.24313725, 0.24313725],\n",
       "        [0.18039216, 0.20784314, 0.23137255],\n",
       "        [0.14117647, 0.16862745, 0.18431373]],\n",
       "\n",
       "       [[0.2627451 , 0.40392157, 0.37647059],\n",
       "        [0.21176471, 0.38039216, 0.35686275],\n",
       "        [0.23921569, 0.34509804, 0.30588235],\n",
       "        ...,\n",
       "        [0.10196078, 0.21960784, 0.15686275],\n",
       "        [0.16078431, 0.24705882, 0.20784314],\n",
       "        [0.16078431, 0.23921569, 0.21960784]]])"
      ]
     },
     "execution_count": 8,
     "metadata": {},
     "output_type": "execute_result"
    }
   ],
   "source": [
    "X[0]"
   ]
  },
  {
   "cell_type": "markdown",
   "id": "c35ad441-2463-4f5c-aee4-a9d88a2d1018",
   "metadata": {},
   "source": [
    "## For Model"
   ]
  },
  {
   "cell_type": "code",
   "execution_count": 14,
   "id": "3868ed66-fc78-45e0-a2a1-11fe4e34f5ea",
   "metadata": {},
   "outputs": [],
   "source": [
    "from keras.models import Sequential\n",
    "from keras.layers import Conv2D,MaxPooling2D,Dropout,Flatten,Dense,BatchNormalization"
   ]
  },
  {
   "cell_type": "markdown",
   "id": "f7e937fe-fbe9-4983-a524-05d0644f4645",
   "metadata": {},
   "source": [
    "##   Optimize Using Keras Tuner"
   ]
  },
  {
   "cell_type": "code",
   "execution_count": 15,
   "id": "394aff89-0853-42b7-96e5-2efe2133a24d",
   "metadata": {},
   "outputs": [],
   "source": [
    "def hp_model(hp):\n",
    "    model = keras.Sequential([\n",
    "            keras.layers.Conv2D(\n",
    "                filters=hp.Int('conv_1_filter', min_value=32, max_value=128, step=16),\n",
    "                kernel_size=hp.Choice('conv_1_kernel', values = [3,5]),\n",
    "                activation='relu',\n",
    "                input_shape=(IMG_SIZE,IMG_SIZE,3)\n",
    "            ),\n",
    "            keras.layers.BatchNormalization(),\n",
    "            keras.layers.MaxPooling2D(pool_size=hp.Choice('pool1', values = [3,5])),\n",
    "\n",
    "\n",
    "            keras.layers.Conv2D(\n",
    "                filters=hp.Int('conv_2_filter', min_value=32, max_value=64, step=16),\n",
    "                kernel_size=hp.Choice('conv_2_kernel', values = [3,5]),\n",
    "                activation='relu'\n",
    "            ),\n",
    "            keras.layers.BatchNormalization(),\n",
    "            keras.layers.MaxPooling2D(pool_size=hp.Choice('pool2', values = [3,5])),\n",
    "\n",
    "            keras.layers.Flatten(),\n",
    "            keras.layers.Dense(\n",
    "                units=hp.Int('dense_1_units', min_value=64, max_value=512, step=16),\n",
    "                activation='relu'\n",
    "            ),\n",
    "            keras.layers.Dropout(0.2),\n",
    "\n",
    "            keras.layers.Dense(\n",
    "                units=hp.Int('dense_1_units', min_value=32, max_value=128, step=16),\n",
    "                activation='relu'\n",
    "            ),\n",
    "            keras.layers.Dropout(0.2),\n",
    "            keras.layers.Dense(2, activation='softmax')\n",
    "          ])\n",
    "\n",
    "    model.compile(optimizer=keras.optimizers.Adam(\n",
    "                hp.Choice('learning_rate', values=[1e-2, 1e-3])),\n",
    "                loss='sparse_categorical_crossentropy',\n",
    "                metrics=['accuracy'])\n",
    "    return model"
   ]
  },
  {
   "cell_type": "markdown",
   "id": "c0074581-4fd9-4147-9303-51f94cb7cfc6",
   "metadata": {},
   "source": [
    "## Using Random Search"
   ]
  },
  {
   "cell_type": "code",
   "execution_count": 16,
   "id": "f1b445b6-a69e-4ca8-add4-e97a832e1a60",
   "metadata": {},
   "outputs": [
    {
     "name": "stderr",
     "output_type": "stream",
     "text": [
      "C:\\Users\\murth\\AppData\\Local\\Temp/ipykernel_2168/406843279.py:1: DeprecationWarning: `import kerastuner` is deprecated, please use `import keras_tuner`.\n",
      "  from kerastuner import RandomSearch\n"
     ]
    }
   ],
   "source": [
    "from kerastuner import RandomSearch\n",
    "\n",
    "tuner = RandomSearch(hp_model,objective='val_accuracy',max_trials=5,directory='Output',project_name='Dog vs Cat',)\n"
   ]
  },
  {
   "cell_type": "code",
   "execution_count": 17,
   "id": "405c1177-b4df-4bf8-b7cf-a8253341339a",
   "metadata": {},
   "outputs": [],
   "source": [
    "# from sklearn.model_selection import train_test_split\n",
    "\n",
    "# X_tain,X_test,y_train,y_test = train_test_split(X,y,test_size=0.15,random_state=42)\n"
   ]
  },
  {
   "cell_type": "code",
   "execution_count": 18,
   "id": "bd1bd7f7-5f33-478c-a34e-6c023feef78a",
   "metadata": {},
   "outputs": [
    {
     "name": "stdout",
     "output_type": "stream",
     "text": [
      "Trial 5 Complete [00h 02m 53s]\n",
      "val_accuracy: 0.7429999709129333\n",
      "\n",
      "Best val_accuracy So Far: 0.7739999890327454\n",
      "Total elapsed time: 00h 15m 01s\n",
      "INFO:tensorflow:Oracle triggered exit\n"
     ]
    }
   ],
   "source": [
    "tuner.search(X,y,epochs=5,validation_split=0.1)"
   ]
  },
  {
   "cell_type": "code",
   "execution_count": 19,
   "id": "ab150ca6-473a-4c0e-b0b0-ebdfbba30457",
   "metadata": {},
   "outputs": [
    {
     "name": "stdout",
     "output_type": "stream",
     "text": [
      "[<keras.engine.sequential.Sequential object at 0x0000024B86A6A160>]\n",
      "WARNING:tensorflow:Unresolved object in checkpoint: (root).optimizer.iter\n",
      "WARNING:tensorflow:Unresolved object in checkpoint: (root).optimizer.beta_1\n",
      "WARNING:tensorflow:Unresolved object in checkpoint: (root).optimizer.beta_2\n",
      "WARNING:tensorflow:Unresolved object in checkpoint: (root).optimizer.decay\n",
      "WARNING:tensorflow:Unresolved object in checkpoint: (root).optimizer.learning_rate\n",
      "WARNING:tensorflow:A checkpoint was restored (e.g. tf.train.Checkpoint.restore or tf.keras.Model.load_weights) but not all checkpointed values were used. See above for specific issues. Use expect_partial() on the load status object, e.g. tf.train.Checkpoint.restore(...).expect_partial(), to silence these warnings, or use assert_consumed() to make the check explicit. See https://www.tensorflow.org/guide/checkpoint#loading_mechanics for details.\n"
     ]
    }
   ],
   "source": [
    "print(tuner.get_best_models())"
   ]
  },
  {
   "cell_type": "code",
   "execution_count": 20,
   "id": "4ec2d480-4d3a-47a6-9747-bd445e1a9d5e",
   "metadata": {},
   "outputs": [],
   "source": [
    "new_model = tuner.get_best_models(num_models=1)[0]"
   ]
  },
  {
   "cell_type": "code",
   "execution_count": 21,
   "id": "7d0c6d8b-ed92-4266-af15-c0eeba3e6f1c",
   "metadata": {},
   "outputs": [
    {
     "name": "stdout",
     "output_type": "stream",
     "text": [
      "Model: \"sequential\"\n",
      "_________________________________________________________________\n",
      "Layer (type)                 Output Shape              Param #   \n",
      "=================================================================\n",
      "conv2d (Conv2D)              (None, 124, 124, 64)      4864      \n",
      "_________________________________________________________________\n",
      "batch_normalization (BatchNo (None, 124, 124, 64)      256       \n",
      "_________________________________________________________________\n",
      "max_pooling2d (MaxPooling2D) (None, 24, 24, 64)        0         \n",
      "_________________________________________________________________\n",
      "conv2d_1 (Conv2D)            (None, 22, 22, 32)        18464     \n",
      "_________________________________________________________________\n",
      "batch_normalization_1 (Batch (None, 22, 22, 32)        128       \n",
      "_________________________________________________________________\n",
      "max_pooling2d_1 (MaxPooling2 (None, 7, 7, 32)          0         \n",
      "_________________________________________________________________\n",
      "flatten (Flatten)            (None, 1568)              0         \n",
      "_________________________________________________________________\n",
      "dense (Dense)                (None, 384)               602496    \n",
      "_________________________________________________________________\n",
      "dropout (Dropout)            (None, 384)               0         \n",
      "_________________________________________________________________\n",
      "dense_1 (Dense)              (None, 384)               147840    \n",
      "_________________________________________________________________\n",
      "dropout_1 (Dropout)          (None, 384)               0         \n",
      "_________________________________________________________________\n",
      "dense_2 (Dense)              (None, 2)                 770       \n",
      "=================================================================\n",
      "Total params: 774,818\n",
      "Trainable params: 774,626\n",
      "Non-trainable params: 192\n",
      "_________________________________________________________________\n"
     ]
    }
   ],
   "source": [
    "new_model.summary()"
   ]
  },
  {
   "cell_type": "code",
   "execution_count": 23,
   "id": "babcec8a-cde7-4dc9-b5b3-5bda286b8124",
   "metadata": {},
   "outputs": [],
   "source": [
    "new_model.save('new_model.h5')"
   ]
  },
  {
   "cell_type": "code",
   "execution_count": 3,
   "id": "9e03c19d-61a9-4857-bbc3-1990ff1f309d",
   "metadata": {},
   "outputs": [
    {
     "name": "stdout",
     "output_type": "stream",
     "text": [
      "WARNING:tensorflow:Error in loading the saved optimizer state. As a result, your model is starting with a freshly initialized optimizer.\n"
     ]
    }
   ],
   "source": [
    "new_model = keras.models.load_model('new_model.h5')"
   ]
  },
  {
   "cell_type": "code",
   "execution_count": 9,
   "id": "5e3a92a2-b34e-48c6-b3d4-f5a85c00c75d",
   "metadata": {},
   "outputs": [
    {
     "name": "stdout",
     "output_type": "stream",
     "text": [
      "Epoch 1/30\n",
      "282/282 [==============================] - 29s 59ms/step - loss: 0.0731 - accuracy: 0.9766 - val_loss: 0.7443 - val_accuracy: 0.7830\n",
      "Epoch 2/30\n",
      "282/282 [==============================] - 15s 52ms/step - loss: 0.0588 - accuracy: 0.9817 - val_loss: 0.9316 - val_accuracy: 0.7870\n",
      "Epoch 3/30\n",
      "282/282 [==============================] - 15s 52ms/step - loss: 0.0577 - accuracy: 0.9804 - val_loss: 0.7894 - val_accuracy: 0.8030\n",
      "Epoch 4/30\n",
      "282/282 [==============================] - 15s 52ms/step - loss: 0.0535 - accuracy: 0.9832 - val_loss: 0.8673 - val_accuracy: 0.8060\n",
      "Epoch 5/30\n",
      "282/282 [==============================] - 15s 52ms/step - loss: 0.0597 - accuracy: 0.9802 - val_loss: 0.9716 - val_accuracy: 0.7980\n",
      "Epoch 6/30\n",
      "282/282 [==============================] - 15s 52ms/step - loss: 0.0509 - accuracy: 0.9832 - val_loss: 0.8190 - val_accuracy: 0.7890\n",
      "Epoch 7/30\n",
      "282/282 [==============================] - 15s 52ms/step - loss: 0.0433 - accuracy: 0.9860 - val_loss: 0.7977 - val_accuracy: 0.8190\n",
      "Epoch 8/30\n",
      "282/282 [==============================] - 15s 51ms/step - loss: 0.0361 - accuracy: 0.9870 - val_loss: 1.0696 - val_accuracy: 0.7580\n",
      "Epoch 9/30\n",
      "282/282 [==============================] - 15s 52ms/step - loss: 0.0505 - accuracy: 0.9819 - val_loss: 0.9907 - val_accuracy: 0.7970\n",
      "Epoch 10/30\n",
      "282/282 [==============================] - 15s 52ms/step - loss: 0.0395 - accuracy: 0.9874 - val_loss: 1.0930 - val_accuracy: 0.7820\n",
      "Epoch 11/30\n",
      "282/282 [==============================] - 15s 52ms/step - loss: 0.0374 - accuracy: 0.9871 - val_loss: 0.8619 - val_accuracy: 0.8220\n",
      "Epoch 12/30\n",
      "282/282 [==============================] - 15s 52ms/step - loss: 0.0294 - accuracy: 0.9900 - val_loss: 0.8212 - val_accuracy: 0.8200\n",
      "Epoch 13/30\n",
      "282/282 [==============================] - 15s 52ms/step - loss: 0.0340 - accuracy: 0.9900 - val_loss: 0.7567 - val_accuracy: 0.8040\n",
      "Epoch 14/30\n",
      "282/282 [==============================] - 15s 52ms/step - loss: 0.0390 - accuracy: 0.9871 - val_loss: 0.8522 - val_accuracy: 0.8210\n",
      "Epoch 15/30\n",
      "282/282 [==============================] - 15s 52ms/step - loss: 0.0350 - accuracy: 0.9891 - val_loss: 0.7599 - val_accuracy: 0.8320\n",
      "Epoch 16/30\n",
      "282/282 [==============================] - 15s 52ms/step - loss: 0.0307 - accuracy: 0.9897 - val_loss: 1.7080 - val_accuracy: 0.7010\n",
      "Epoch 17/30\n",
      "282/282 [==============================] - 15s 52ms/step - loss: 0.0435 - accuracy: 0.9852 - val_loss: 0.8755 - val_accuracy: 0.8170\n",
      "Epoch 18/30\n",
      "282/282 [==============================] - 12s 44ms/step - loss: 0.0282 - accuracy: 0.9909 - val_loss: 0.8651 - val_accuracy: 0.8140\n",
      "Epoch 19/30\n",
      "282/282 [==============================] - 11s 40ms/step - loss: 0.0360 - accuracy: 0.9876 - val_loss: 0.7884 - val_accuracy: 0.7960\n",
      "Epoch 20/30\n",
      "282/282 [==============================] - 11s 40ms/step - loss: 0.0222 - accuracy: 0.9917 - val_loss: 1.1347 - val_accuracy: 0.7930\n",
      "Epoch 21/30\n",
      "282/282 [==============================] - 11s 40ms/step - loss: 0.0198 - accuracy: 0.9929 - val_loss: 1.0864 - val_accuracy: 0.8010\n",
      "Epoch 22/30\n",
      "282/282 [==============================] - 11s 41ms/step - loss: 0.0262 - accuracy: 0.9910 - val_loss: 1.0577 - val_accuracy: 0.8010\n",
      "Epoch 23/30\n",
      "282/282 [==============================] - 11s 40ms/step - loss: 0.0261 - accuracy: 0.9919 - val_loss: 0.9569 - val_accuracy: 0.7980\n",
      "Epoch 24/30\n",
      "282/282 [==============================] - 11s 40ms/step - loss: 0.0317 - accuracy: 0.9903 - val_loss: 1.0062 - val_accuracy: 0.8030\n",
      "Epoch 25/30\n",
      "282/282 [==============================] - 11s 40ms/step - loss: 0.0269 - accuracy: 0.9910 - val_loss: 0.9830 - val_accuracy: 0.8030\n",
      "Epoch 26/30\n",
      "282/282 [==============================] - 11s 40ms/step - loss: 0.0311 - accuracy: 0.9909 - val_loss: 0.9200 - val_accuracy: 0.8150\n",
      "Epoch 27/30\n",
      "282/282 [==============================] - 11s 40ms/step - loss: 0.0280 - accuracy: 0.9904 - val_loss: 1.0521 - val_accuracy: 0.8040\n",
      "Epoch 28/30\n",
      "282/282 [==============================] - 11s 40ms/step - loss: 0.0340 - accuracy: 0.9892 - val_loss: 0.9366 - val_accuracy: 0.8190\n",
      "Epoch 29/30\n",
      "282/282 [==============================] - 11s 40ms/step - loss: 0.0290 - accuracy: 0.9914 - val_loss: 0.9209 - val_accuracy: 0.8160\n",
      "Epoch 30/30\n",
      "282/282 [==============================] - 11s 40ms/step - loss: 0.0169 - accuracy: 0.9939 - val_loss: 0.9388 - val_accuracy: 0.8200\n"
     ]
    }
   ],
   "source": [
    " history = new_model.fit(X,y,epochs=30,validation_split=0.1)"
   ]
  },
  {
   "cell_type": "code",
   "execution_count": null,
   "id": "1420f4a6-0891-4b5a-8f5b-238a9bb9393d",
   "metadata": {},
   "outputs": [],
   "source": []
  },
  {
   "cell_type": "code",
   "execution_count": null,
   "id": "2b3918bc-1a55-4e3b-86f5-e67770e4a8ef",
   "metadata": {},
   "outputs": [],
   "source": []
  },
  {
   "cell_type": "markdown",
   "id": "112df310-2b08-447c-aa0a-861781cc0440",
   "metadata": {},
   "source": [
    "## Model Accuracy"
   ]
  },
  {
   "cell_type": "code",
   "execution_count": 10,
   "id": "5fafdf46-7cf5-4830-9b9f-ea09253f6b61",
   "metadata": {},
   "outputs": [],
   "source": [
    "def plo_acc_loss(history,mode):\n",
    "    plt.plot(history.history[mode])\n",
    "    plt.plot(history.history[f'val_{mode}'])\n",
    "    plt.title(f'model {mode}')\n",
    "    plt.ylabel(mode)\n",
    "    plt.xlabel('epoch')\n",
    "    plt.legend(['train', 'val'], loc='upper left')\n",
    "    plt.show()"
   ]
  },
  {
   "cell_type": "code",
   "execution_count": 11,
   "id": "aba1dbc1-b3c6-4500-ad5f-369a0e5b62a6",
   "metadata": {},
   "outputs": [
    {
     "data": {
      "image/png": "[encoded data removed]",
      "text/plain": [
       "<Figure size 432x288 with 1 Axes>"
      ]
     },
     "metadata": {
      "needs_background": "light"
     },
     "output_type": "display_data"
    }
   ],
   "source": [
    "plo_acc_loss(history,'accuracy')"
   ]
  },
  {
   "cell_type": "markdown",
   "id": "b7825d23-fbb6-4d0f-a653-22cb12b5be9d",
   "metadata": {},
   "source": [
    "## Model Loss"
   ]
  },
  {
   "cell_type": "code",
   "execution_count": 12,
   "id": "759e6597-3418-4b70-a811-c61dc4f5d16b",
   "metadata": {},
   "outputs": [
    {
     "data": {
      "image/png": "[encoded data removed]",
      "text/plain": [
       "<Figure size 432x288 with 1 Axes>"
      ]
     },
     "metadata": {
      "needs_background": "light"
     },
     "output_type": "display_data"
    }
   ],
   "source": [
    "plo_acc_loss(history,'loss')"
   ]
  },
  {
   "cell_type": "markdown",
   "id": "0cde5ee1-f9d3-4ffc-9560-f390e4fd7002",
   "metadata": {},
   "source": [
    "## Our model tends to overfit\n",
    "### So we are going to use data generation from keras"
   ]
  },
  {
   "cell_type": "code",
   "execution_count": 13,
   "id": "776a3f76-44d4-499e-999a-751161623fd7",
   "metadata": {},
   "outputs": [
    {
     "name": "stdout",
     "output_type": "stream",
     "text": [
      "Found 10000 images belonging to 2 classes.\n",
      "Found 2000 images belonging to 2 classes.\n"
     ]
    }
   ],
   "source": [
    "from keras.preprocessing.image import ImageDataGenerator\n",
    "\n",
    "train_data = ImageDataGenerator(\n",
    "    rescale=1./255,\n",
    "    shear_range=0.3,\n",
    "    horizontal_flip=True,\n",
    "    zoom_range=0.2)\n",
    "\n",
    "\n",
    "train_gen = train_data.flow_from_directory(\n",
    "    'data/train',\n",
    "    target_size=(IMG_SIZE,IMG_SIZE),\n",
    "    batch_size=32,\n",
    "    class_mode='binary')\n",
    "\n",
    "val_data = ImageDataGenerator(rescale=1./255)\n",
    "\n",
    "val_gen = val_data.flow_from_directory('data/test',\n",
    "                                       target_size=(IMG_SIZE,IMG_SIZE),\n",
    "                                       batch_size=32,\n",
    "                                       class_mode='binary')\n"
   ]
  },
  {
   "cell_type": "markdown",
   "id": "9d16a234-d5cc-4f2b-a352-9782a05f5aa7",
   "metadata": {},
   "source": [
    "### Fiting the dgenerated data to our model"
   ]
  },
  {
   "cell_type": "code",
   "execution_count": 18,
   "id": "1e5eb52c-a2fa-433c-887a-350d2e0369b4",
   "metadata": {},
   "outputs": [
    {
     "name": "stdout",
     "output_type": "stream",
     "text": [
      "Epoch 1/20\n",
      "100/100 [==============================] - ETA: 0s - loss: 0.2364 - accuracy: 0.9056WARNING:tensorflow:Your input ran out of data; interrupting training. Make sure that your dataset or generator can generate at least `steps_per_epoch * epochs` batches (in this case, 100 batches). You may need to use the repeat() function when building your dataset.\n",
      "100/100 [==============================] - 20s 204ms/step - loss: 0.2364 - accuracy: 0.9056 - val_loss: 0.4148 - val_accuracy: 0.8245\n",
      "Epoch 2/20\n",
      "100/100 [==============================] - 15s 153ms/step - loss: 0.2252 - accuracy: 0.9034\n",
      "Epoch 3/20\n",
      "100/100 [==============================] - 16s 155ms/step - loss: 0.2389 - accuracy: 0.9055\n",
      "Epoch 4/20\n",
      "100/100 [==============================] - 16s 157ms/step - loss: 0.2167 - accuracy: 0.9092\n",
      "Epoch 5/20\n",
      "100/100 [==============================] - 16s 157ms/step - loss: 0.1956 - accuracy: 0.9237\n",
      "Epoch 6/20\n",
      "100/100 [==============================] - 16s 157ms/step - loss: 0.2238 - accuracy: 0.9128\n",
      "Epoch 7/20\n",
      "100/100 [==============================] - 16s 157ms/step - loss: 0.1949 - accuracy: 0.9234\n",
      "Epoch 8/20\n",
      "100/100 [==============================] - 16s 156ms/step - loss: 0.1883 - accuracy: 0.9328\n",
      "Epoch 9/20\n",
      "100/100 [==============================] - 16s 156ms/step - loss: 0.1836 - accuracy: 0.9243\n",
      "Epoch 10/20\n",
      "100/100 [==============================] - 16s 160ms/step - loss: 0.1997 - accuracy: 0.9209\n",
      "Epoch 11/20\n",
      "100/100 [==============================] - 16s 157ms/step - loss: 0.1833 - accuracy: 0.9319\n",
      "Epoch 12/20\n",
      "100/100 [==============================] - 16s 157ms/step - loss: 0.1953 - accuracy: 0.9249s - loss: 0\n",
      "Epoch 13/20\n",
      "100/100 [==============================] - 16s 156ms/step - loss: 0.1881 - accuracy: 0.9256\n",
      "Epoch 14/20\n",
      "100/100 [==============================] - 16s 156ms/step - loss: 0.1594 - accuracy: 0.9409\n",
      "Epoch 15/20\n",
      "100/100 [==============================] - 15s 154ms/step - loss: 0.1856 - accuracy: 0.9249\n",
      "Epoch 16/20\n",
      "100/100 [==============================] - 15s 154ms/step - loss: 0.1749 - accuracy: 0.9369\n",
      "Epoch 17/20\n",
      "100/100 [==============================] - 16s 155ms/step - loss: 0.1930 - accuracy: 0.9253\n",
      "Epoch 18/20\n",
      "100/100 [==============================] - 15s 154ms/step - loss: 0.1633 - accuracy: 0.9416\n",
      "Epoch 19/20\n",
      "100/100 [==============================] - 15s 154ms/step - loss: 0.1681 - accuracy: 0.9340\n",
      "Epoch 20/20\n",
      "100/100 [==============================] - 16s 157ms/step - loss: 0.1606 - accuracy: 0.9366\n"
     ]
    }
   ],
   "source": [
    "img_generator_model =  new_model.fit_generator(\n",
    "    train_gen,\n",
    "    steps_per_epoch=100,\n",
    "    epochs=20,\n",
    "    validation_data=val_gen,\n",
    "    validation_steps=100)"
   ]
  },
  {
   "cell_type": "code",
   "execution_count": 21,
   "id": "1fbc0371-071d-4b11-937c-265e7b2f3da2",
   "metadata": {},
   "outputs": [
    {
     "data": {
      "image/png": "[encoded data removed]",
      "text/plain": [
       "<Figure size 432x288 with 1 Axes>"
      ]
     },
     "metadata": {
      "needs_background": "light"
     },
     "output_type": "display_data"
    }
   ],
   "source": [
    "plo_acc_loss(img_generator_model,'accuracy')"
   ]
  },
  {
   "cell_type": "code",
   "execution_count": 22,
   "id": "6af6d470-3bff-459c-93ab-b50997b4e822",
   "metadata": {},
   "outputs": [
    {
     "data": {
      "image/png": "[encoded data removed]",
      "text/plain": [
       "<Figure size 432x288 with 1 Axes>"
      ]
     },
     "metadata": {
      "needs_background": "light"
     },
     "output_type": "display_data"
    }
   ],
   "source": [
    "plo_acc_loss(img_generator_model,'loss')\n"
   ]
  },
  {
   "cell_type": "markdown",
   "id": "1e31d517-3ee9-4a0d-8c86-bece9dd45f3e",
   "metadata": {},
   "source": [
    "## Saving the Model"
   ]
  },
  {
   "cell_type": "code",
   "execution_count": 23,
   "id": "4e5bf5bc-6c41-43d0-a576-611a4347050b",
   "metadata": {},
   "outputs": [],
   "source": [
    "new_model.save('model.h5')"
   ]
  },
  {
   "cell_type": "markdown",
   "id": "48f99a5a-2a10-4709-b073-97faba330e6e",
   "metadata": {},
   "source": [
    "## Load Saved model"
   ]
  },
  {
   "cell_type": "code",
   "execution_count": 24,
   "id": "640fa8c0-0223-4891-be72-52eef3289851",
   "metadata": {},
   "outputs": [],
   "source": [
    "loaded = keras.models.load_model('model.h5')"
   ]
  },
  {
   "cell_type": "markdown",
   "id": "4bcc7f50-a8a7-4552-8168-dd46fe6a07c7",
   "metadata": {},
   "source": [
    "### Reducing the model size with tflite"
   ]
  },
  {
   "cell_type": "code",
   "execution_count": 25,
   "id": "fbef7338-0f45-4b41-b907-a8e593f60e06",
   "metadata": {},
   "outputs": [
    {
     "name": "stdout",
     "output_type": "stream",
     "text": [
      "INFO:tensorflow:Assets written to: C:\\Users\\murth\\AppData\\Local\\Temp\\tmpc0u219gz\\assets\n"
     ]
    }
   ],
   "source": [
    "converter = tf.lite.TFLiteConverter.from_keras_model(loaded)\n",
    "tflite_model = converter.convert()"
   ]
  },
  {
   "cell_type": "code",
   "execution_count": 26,
   "id": "745a5cf1-388f-40ec-a5e1-c78492312869",
   "metadata": {},
   "outputs": [
    {
     "data": {
      "text/plain": [
       "3103188"
      ]
     },
     "execution_count": 26,
     "metadata": {},
     "output_type": "execute_result"
    }
   ],
   "source": [
    "len(tflite_model)"
   ]
  },
  {
   "cell_type": "markdown",
   "id": "b175bc09-2f29-4ead-bc37-2666a9c61deb",
   "metadata": {},
   "source": [
    "### Reducing with Quantization "
   ]
  },
  {
   "cell_type": "code",
   "execution_count": 27,
   "id": "65dce018-d8c2-46a4-af2a-971fcb2810ac",
   "metadata": {},
   "outputs": [
    {
     "name": "stdout",
     "output_type": "stream",
     "text": [
      "INFO:tensorflow:Assets written to: C:\\Users\\murth\\AppData\\Local\\Temp\\tmpogtx8cbz\\assets\n"
     ]
    },
    {
     "name": "stderr",
     "output_type": "stream",
     "text": [
      "INFO:tensorflow:Assets written to: C:\\Users\\murth\\AppData\\Local\\Temp\\tmpogtx8cbz\\assets\n"
     ]
    }
   ],
   "source": [
    "converter = tf.lite.TFLiteConverter.from_keras_model(loaded)\n",
    "converter.optimizations = [tf.lite.Optimize.DEFAULT]\n",
    "tflite_optimized_model = converter.convert()"
   ]
  },
  {
   "cell_type": "code",
   "execution_count": 28,
   "id": "d9ef89f2-abae-4f15-b8c8-8a2a53152ba2",
   "metadata": {},
   "outputs": [
    {
     "data": {
      "text/plain": [
       "787168"
      ]
     },
     "execution_count": 28,
     "metadata": {},
     "output_type": "execute_result"
    }
   ],
   "source": [
    "len(tflite_optimized_model)"
   ]
  },
  {
   "cell_type": "code",
   "execution_count": 29,
   "id": "b17284d3-f1f6-437a-a4cd-d8a1277c6a87",
   "metadata": {},
   "outputs": [],
   "source": [
    "file  = open('tf_q_model.tflite','wb')\n",
    "file.write(tflite_optimized_model)\n",
    "file.close()"
   ]
  },
  {
   "cell_type": "markdown",
   "id": "97dfb162-8c27-41ba-b152-d81e1b9001c0",
   "metadata": {},
   "source": [
    "## Quantization aware training"
   ]
  },
  {
   "cell_type": "code",
   "execution_count": 33,
   "id": "1eece043-6f06-4b6c-b2ab-d59a638bfc31",
   "metadata": {},
   "outputs": [],
   "source": [
    "# import tensorflow_model_optimization as tfmod\n",
    "\n",
    "# q_m = tfmod.quantization.keras.quantize_model\n",
    "\n",
    "# q_aware_model = q_m(loaded)\n"
   ]
  },
  {
   "cell_type": "code",
   "execution_count": null,
   "id": "5dd4035a-12d7-47aa-9a91-166664cd3028",
   "metadata": {},
   "outputs": [],
   "source": []
  },
  {
   "cell_type": "code",
   "execution_count": null,
   "id": "94308385-9885-4d1f-8b66-97e12a5dba78",
   "metadata": {},
   "outputs": [],
   "source": []
  }
 ],
 "metadata": {
  "kernelspec": {
   "display_name": "Python 3 (ipykernel)",
   "language": "python",
   "name": "python3"
  },
  "language_info": {
   "codemirror_mode": {
    "name": "ipython",
    "version": 3
   },
   "file_extension": ".py",
   "mimetype": "text/x-python",
   "name": "python",
   "nbconvert_exporter": "python",
   "pygments_lexer": "ipython3",
   "version": "3.8.12"
  }
 },
 "nbformat": 4,
 "nbformat_minor": 5
}
